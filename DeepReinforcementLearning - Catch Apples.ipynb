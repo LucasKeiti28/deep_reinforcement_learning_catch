{
 "cells": [
  {
   "cell_type": "code",
   "execution_count": 1,
   "id": "smaller-berry",
   "metadata": {
    "ExecuteTime": {
     "end_time": "2021-06-15T10:54:32.134440Z",
     "start_time": "2021-06-15T10:54:32.129299Z"
    }
   },
   "outputs": [
    {
     "name": "stdout",
     "output_type": "stream",
     "text": [
      "3.8.5\n"
     ]
    }
   ],
   "source": [
    "from platform import python_version\n",
    "print(python_version())"
   ]
  },
  {
   "cell_type": "markdown",
   "id": "selected-stevens",
   "metadata": {},
   "source": [
    "# Deep Reinforcement Learning\n",
    "The model learns from experience instead of labels."
   ]
  },
  {
   "cell_type": "code",
   "execution_count": 2,
   "id": "blocked-offset",
   "metadata": {
    "ExecuteTime": {
     "end_time": "2021-06-15T11:08:42.937201Z",
     "start_time": "2021-06-15T11:08:41.555466Z"
    }
   },
   "outputs": [],
   "source": [
    "!pip install -q -U watermark"
   ]
  },
  {
   "cell_type": "code",
   "execution_count": 8,
   "id": "black-eight",
   "metadata": {
    "ExecuteTime": {
     "end_time": "2021-06-15T11:19:50.713309Z",
     "start_time": "2021-06-15T11:19:50.697292Z"
    }
   },
   "outputs": [],
   "source": [
    "# Imports\n",
    "import json \n",
    "import time\n",
    "import numpy as np \n",
    "import matplotlib\n",
    "import matplotlib.pyplot as plt \n",
    "from PIL import Image\n",
    "from IPython import display \n",
    "import seaborn\n",
    "import tensorflow\n",
    "import keras\n",
    "from keras.models import model_from_json\n",
    "from keras.models import Sequential\n",
    "from keras.layers.core import Dense\n",
    "from keras.optimizers import SGD\n",
    "\n",
    "\n",
    "%matplotlib inline \n",
    "seaborn.set()"
   ]
  },
  {
   "cell_type": "code",
   "execution_count": 9,
   "id": "streaming-austin",
   "metadata": {
    "ExecuteTime": {
     "end_time": "2021-06-15T11:19:52.598793Z",
     "start_time": "2021-06-15T11:19:52.585597Z"
    }
   },
   "outputs": [
    {
     "name": "stdout",
     "output_type": "stream",
     "text": [
      "Author: Data Science Academy\n",
      "\n",
      "matplotlib: 3.3.4\n",
      "seaborn   : 0.11.1\n",
      "autopep8  : 1.5.6\n",
      "keras     : 2.4.3\n",
      "json      : 2.0.9\n",
      "IPython   : 7.21.0\n",
      "tensorflow: 2.4.1\n",
      "numpy     : 1.19.5\n",
      "PIL       : 8.1.2\n",
      "\n"
     ]
    }
   ],
   "source": [
    "# Versões dos pacotes usados neste jupyter notebook\n",
    "%reload_ext watermark\n",
    "%watermark -a \"Data Science Academy\" --iversions"
   ]
  },
  {
   "cell_type": "markdown",
   "id": "usual-principle",
   "metadata": {},
   "source": [
    "## Preparando o game\n",
    "\n",
    "No jogo, frutas, representadas por azulejos brancos, caem do topo. O objetivo é pegar os frutos com um basket (representado por azulejos brancos). Se você pegar uma fruta, você obtém um ponto (sua pontuação sobe por um), se você perder uma fruta, perdeu um (sua pontuação diminui).\n"
   ]
  },
  {
   "cell_type": "code",
   "execution_count": 10,
   "id": "subjective-sweet",
   "metadata": {
    "ExecuteTime": {
     "end_time": "2021-06-15T11:38:02.085155Z",
     "start_time": "2021-06-15T11:38:02.077161Z"
    }
   },
   "outputs": [
    {
     "ename": "SyntaxError",
     "evalue": "invalid syntax (<ipython-input-10-5bd78bfe060f>, line 12)",
     "output_type": "error",
     "traceback": [
      "\u001b[0;36m  File \u001b[0;32m\"<ipython-input-10-5bd78bfe060f>\"\u001b[0;36m, line \u001b[0;32m12\u001b[0m\n\u001b[0;31m    else action == 1 #right\u001b[0m\n\u001b[0m         ^\u001b[0m\n\u001b[0;31mSyntaxError\u001b[0m\u001b[0;31m:\u001b[0m invalid syntax\n"
     ]
    }
   ],
   "source": [
    "class Catch(object):\n",
    "    def __init__(self, grid_size = 10):\n",
    "        self.grid_size = grid_size\n",
    "        self.reset()\n",
    "    \n",
    "    def _update_state(self, action):\n",
    "        state = self.state\n",
    "        if action == 0: #left\n",
    "            action = -1\n",
    "        elif action == 1: #stay\n",
    "            action = 0\n",
    "        else action == 1 #right\n",
    "        \n",
    "        f0, f1, basket = state[0]\n",
    "        new_basket = min(max(1, basket + action), self.grid_size-1)\n",
    "        f0 += 1\n",
    "        out = np.asarray([f0, f1, new_basket])\n",
    "        out = out[np.newaxis]\n",
    "        \n",
    "        assert len(out.shape) == 2\n",
    "        self.state = out \n",
    "        \n",
    "    def _draw_state(self):\n",
    "        im_size = (self.grid_size,)*2\n",
    "        state = self.state[0]\n",
    "        canvas = np.zeros(im_size)\n",
    "        canvas[state[0], state[1]] = 1 # desenha fruta\n",
    "        #canvas[-1, state[2]-1:state[2] + 2] = 1  # desenha basket\n",
    "        return canvas\n",
    "    \n",
    "    def _get_reward(self):\n",
    "        fruit_row, fruit_col, basket = self.state[0]\n",
    "        if fruit_row == self.grid_size-1:\n",
    "            if abs(fruit_col - basket) <= 1:\n",
    "                return 1\n",
    "            else:\n",
    "                return -1\n",
    "        else:\n",
    "            return 0\n",
    "        \n",
    "    def _is_over(self):\n",
    "        if self.state[0,0] == self.grid_size - 1:\n",
    "            return True\n",
    "        else:\n",
    "            return False\n",
    "        \n",
    "    def observe(self):\n",
    "        canvas = self._draw_state()\n",
    "        return canvas.reshape((1,-1))\n",
    "    \n",
    "    def act(self):\n",
    "        self._update_state(action)\n",
    "        reward = self._get_reward()\n",
    "        game_over = self._is_over()\n",
    "        return self.observe(), reward, game_over\n",
    "    \n",
    "    def reset(self):\n",
    "        n = np.random.randint(0, self.grid_size-1, size=1)\n",
    "        m = np.random.randint(1, self.grid_size-2, size=1)\n",
    "        self.state = np.asarray([0,n,m])[np.newaxis]"
   ]
  },
  {
   "cell_type": "code",
   "execution_count": null,
   "id": "described-opening",
   "metadata": {},
   "outputs": [],
   "source": []
  }
 ],
 "metadata": {
  "kernelspec": {
   "display_name": "Python 3",
   "language": "python",
   "name": "python3"
  },
  "language_info": {
   "codemirror_mode": {
    "name": "ipython",
    "version": 3
   },
   "file_extension": ".py",
   "mimetype": "text/x-python",
   "name": "python",
   "nbconvert_exporter": "python",
   "pygments_lexer": "ipython3",
   "version": "3.8.5"
  },
  "toc": {
   "base_numbering": 1,
   "nav_menu": {},
   "number_sections": true,
   "sideBar": true,
   "skip_h1_title": false,
   "title_cell": "Table of Contents",
   "title_sidebar": "Contents",
   "toc_cell": false,
   "toc_position": {},
   "toc_section_display": true,
   "toc_window_display": true
  }
 },
 "nbformat": 4,
 "nbformat_minor": 5
}
